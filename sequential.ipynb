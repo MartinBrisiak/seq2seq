{
 "cells": [
  {
   "cell_type": "markdown",
   "metadata": {},
   "source": [
    "# Imports"
   ]
  },
  {
   "cell_type": "code",
   "execution_count": 1,
   "metadata": {},
   "outputs": [
    {
     "name": "stderr",
     "output_type": "stream",
     "text": [
      "Using TensorFlow backend.\n"
     ]
    }
   ],
   "source": [
    "import numpy as np\n",
    "from unicodedata import normalize\n",
    "from pprint import pprint\n",
    "import string\n",
    "import re\n",
    "import matplotlib.pyplot as plt\n",
    "\n",
    "# import plaidml.keras\n",
    "# plaidml.keras.install_backend()\n",
    "# import os\n",
    "# os.environ[\"KERAS_BACKEND\"] = \"plaidml.keras.backend\"\n",
    "# import plaidml.keras.backend as K\n",
    "import keras\n",
    "import keras.backend as K\n",
    "from keras.models import Sequential, Model, load_model\n",
    "from keras.layers import Dense, LSTM, CuDNNLSTM, Input, Embedding, TimeDistributed, Flatten, Dropout, RepeatVector\n",
    "from keras.callbacks import ModelCheckpoint\n",
    "from keras.preprocessing.text import Tokenizer"
   ]
  },
  {
   "cell_type": "markdown",
   "metadata": {},
   "source": [
    "# Reading movie lines"
   ]
  },
  {
   "cell_type": "code",
   "execution_count": 2,
   "metadata": {},
   "outputs": [
    {
     "name": "stdout",
     "output_type": "stream",
     "text": [
      "{'L1044': 'they do to',\n",
      " 'L1045': 'they do not',\n",
      " 'L869': 'like my fear of wearing pastels',\n",
      " 'L870': 'im kidding you know how sometimes you just become this persona and '\n",
      "         'you dont know how to quit',\n",
      " 'L871': 'no',\n",
      " 'L872': 'okay youre gonna need to learn how to lie',\n",
      " 'L924': 'wow',\n",
      " 'L925': 'lets go',\n",
      " 'L984': 'she okay',\n",
      " 'L985': 'i hope so'}\n",
      "\n",
      "[['L194', 'L195', 'L196', 'L197'],\n",
      " ['L198', 'L199'],\n",
      " ['L200', 'L201', 'L202', 'L203'],\n",
      " ['L204', 'L205', 'L206'],\n",
      " ['L207', 'L208'],\n",
      " ['L271', 'L272', 'L273', 'L274', 'L275'],\n",
      " ['L276', 'L277'],\n",
      " ['L280', 'L281'],\n",
      " ['L363', 'L364'],\n",
      " ['L365', 'L366']]\n"
     ]
    }
   ],
   "source": [
    "table = str.maketrans('', '', string.punctuation)\n",
    "# prepare regex for char filtering\n",
    "re_print = re.compile('[^%s]' % re.escape(string.printable))\n",
    "# prepare translation table for removing punctuation\n",
    "table = str.maketrans('', '', string.punctuation)\n",
    "\n",
    "def clean_sentence(line):\n",
    "    line = line.strip().replace('--', '').replace(\"  \", \" \").replace('\"', \"\")\n",
    "    line = normalize('NFD', line).encode('ascii', 'ignore')\n",
    "    line = line.decode('UTF-8')\n",
    "    # tokenize on white space\n",
    "    line = line.split()\n",
    "    # convert to lowercase\n",
    "    line = [word.lower() for word in line]\n",
    "    # remove punctuation from each token\n",
    "    line = [word.translate(table) for word in line]\n",
    "    # remove non-printable chars form each token\n",
    "    line = [re_print.sub('', w) for w in line]\n",
    "    # remove tokens with numbers in them\n",
    "    line = [word for word in line if word.isalpha()]\n",
    "    return ' '.join(line)\n",
    "\n",
    "with open('./cornell-movie-dialogs-corpus/movie_lines.txt', 'r', errors='ignore') as f:\n",
    "    lines_as_list = [row.strip() for row in f.readlines()]\n",
    "\n",
    "\n",
    "lines = {}\n",
    "for line in lines_as_list:\n",
    "    lines[\n",
    "        line.split('+++$+++')[0].strip()\n",
    "    ] = clean_sentence(line.split('+++$+++')[-1])  # clean sentences\n",
    "\n",
    "del lines_as_list\n",
    "\n",
    "with open('./cornell-movie-dialogs-corpus/movie_conversations.txt', 'r', errors='ignore') as f:\n",
    "    conversations = [row.strip() for row in f.readlines()]\n",
    "\n",
    "# only take id's and convert list as string to list as list\n",
    "conversations = [\n",
    "    conversation.split('+++$+++')[-1].strip().replace('[', '').replace(']', '').replace(\"'\", '').replace(\" \", '').split(',') \n",
    "    for conversation in conversations\n",
    "]\n",
    "\n",
    "pprint({k: lines[k] for k in list(lines)[:10]})\n",
    "print()\n",
    "pprint(conversations[:10])\n",
    "\n",
    "assert len([conversation for conversation in conversations if len(conversation) <=1]) == 0\n"
   ]
  },
  {
   "cell_type": "markdown",
   "metadata": {},
   "source": [
    "# map keys to line"
   ]
  },
  {
   "cell_type": "code",
   "execution_count": 3,
   "metadata": {},
   "outputs": [
    {
     "name": "stdout",
     "output_type": "stream",
     "text": [
      "[['yeah', 'what do you think'],\n",
      " ['two legs nice rack',\n",
      "  'yeah whatever i want you to go out with her',\n",
      "  'sure sparky ill get right on it',\n",
      "  'you just said',\n",
      "  'you need money to take a girl out',\n",
      "  'but youd go out with her if you had the cake'],\n",
      " ['you got it verona i pick up the tab you do the honors',\n",
      "  'youre gonna pay me to take out some girl',\n",
      "  'i cant date her sister until that one gets a boyfriend and thats the catch '\n",
      "  'she doesnt want a boyfriend',\n",
      "  'how much'],\n",
      " ['i cant take a girl like that out on twenty bucks', 'fine thirty'],\n",
      " ['take it or leave it this isnt a negotiation',\n",
      "  'fifty and youve got your man'],\n",
      " ['when i shell out fifty i expect results',\n",
      "  'im on it',\n",
      "  'watching the bitch trash my car doesnt count as a date',\n",
      "  'i got her under control she just acts crazed in public to keep up the '\n",
      "  'image'],\n",
      " ['i just upped my price',\n",
      "  'what',\n",
      "  'a hundred bucks a date',\n",
      "  'forget it',\n",
      "  'forget her sister then'],\n",
      " ['its about time', 'a deals a deal'],\n",
      " ['howd you do it', 'do what', 'get her to act like a human'],\n",
      " ['i dont know dorsey the limothe flowers another hundred for the tux',\n",
      "  'enough with the barbie n ken shit i know']]\n"
     ]
    }
   ],
   "source": [
    "conversations_with_lines = []\n",
    "for conversation in conversations:\n",
    "    conversations_with_lines.append([lines[key] for key in conversation])\n",
    "    \n",
    "pprint(conversations_with_lines[100:110])"
   ]
  },
  {
   "cell_type": "markdown",
   "metadata": {},
   "source": [
    "# Pair those things"
   ]
  },
  {
   "cell_type": "code",
   "execution_count": 4,
   "metadata": {},
   "outputs": [
    {
     "name": "stdout",
     "output_type": "stream",
     "text": [
      "array(['can we make this quick roxanne korrine and andrew barrett are having an incredibly horrendous public break up on the quad again',\n",
      "       'well i thought wed start with pronunciation if thats okay with you'],\n",
      "      dtype='<U2857')\n",
      "array(['well i thought wed start with pronunciation if thats okay with you',\n",
      "       'not the hacking and gagging and spitting part please'],\n",
      "      dtype='<U2857')\n",
      "array(['not the hacking and gagging and spitting part please',\n",
      "       'okay then how bout we try out some french cuisine saturday night'],\n",
      "      dtype='<U2857')\n",
      "array(['youre asking me out thats so cute whats your name again',\n",
      "       'forget it'], dtype='<U2857')\n",
      "array(['no no its my fault we didnt have a proper introduction',\n",
      "       'cameron'], dtype='<U2857')\n",
      "array(['cameron',\n",
      "       'the thing is cameron im at the mercy of a particularly hideous breed of loser my sister i cant date until she does'],\n",
      "      dtype='<U2857')\n",
      "array(['the thing is cameron im at the mercy of a particularly hideous breed of loser my sister i cant date until she does',\n",
      "       'seems like she could get a date easy enough'], dtype='<U2857')\n",
      "array(['why',\n",
      "       'unsolved mystery she used to be really popular when she started high school then it was just like she got sick of it or something'],\n",
      "      dtype='<U2857')\n",
      "array(['unsolved mystery she used to be really popular when she started high school then it was just like she got sick of it or something',\n",
      "       'thats a shame'], dtype='<U2857')\n",
      "array(['gosh if only we could find kat a boyfriend',\n",
      "       'let me see what i can do'], dtype='<U2857')\n"
     ]
    }
   ],
   "source": [
    "def pair_it(my_list):\n",
    "    pairs = []\n",
    "    for i in range(len(my_list) -1):\n",
    "        pairs.append([my_list[i], my_list[i + 1]])\n",
    "    return pairs\n",
    "\n",
    "paired_conversations_agg = [\n",
    "    pair_it(conversation) for conversation in conversations_with_lines\n",
    "]\n",
    "conversations_pairs = np.array([item for sublist in paired_conversations_agg for item in sublist])\n",
    "for i in range(10):\n",
    "    pprint(conversations_pairs[i])"
   ]
  },
  {
   "cell_type": "markdown",
   "metadata": {},
   "source": [
    "# Noise reduction"
   ]
  },
  {
   "cell_type": "code",
   "execution_count": 5,
   "metadata": {},
   "outputs": [
    {
     "data": {
      "image/png": "[encoded data removed]",
      "text/plain": [
       "<Figure size 576x576 with 1 Axes>"
      ]
     },
     "metadata": {
      "needs_background": "light"
     },
     "output_type": "display_data"
    },
    {
     "name": "stdout",
     "output_type": "stream",
     "text": [
      "longest conversation: \n",
      "['what'\n",
      " 'then lets begin with the story itself its a story of the grail mythand although there are several variations my favorite begins with the fisher king as a young boy who had to spend a night alone in the forest to prove his courage and during that night he is visited by a sacred vision out of the fire appears the holy grail gods highest symbol of divine grace and a voice says to the boy you shall be the guardian of the grail that it may heal the hearts of menbut the boy was overcome innocent and foolish he was blinded by greater visions a life ahead filled with beauty and glory hope and powertears filled his eyes as he sensed his own invincibility a boys tears of naive wonder and inspiration and in this state ofradical amazementhe felt for a brief moment not like a boy but like god and so he reached into the fire to take the grail and the grail vanished and the boy hands were left caught in the flamesleaving him wounded and ashamed at what his recklessness had lost him when he became king he was determined to reclaim his destiny and find the grail but with each year that passed with each campaign he fought the grail remained lost and this wound he suffered in the fire grew worse he became a bitter man life for him lost its reason with each disappointment with each betrayal with each loss this wound would grow soon the land began to spoil from neglect and his people starveduntil finally the king lost all faith in gods existance and in mans valuehe lost his ability to love or be loved and he was so sick with experience that he started to die as the years went on his bravest knights would search for the grail that would heal their king and make them the most respected and valued men in the land but to no avail pretty soon finding the grail became a ruthless struggle between ambitious men vying for the kings power which only confirmed the kings worst suspicions of man causing his wound to grow his only hope he thought was death then one day a fool was brought in to the king to cheer him he was a simpleminded man not particularly skilledor admired he tells the king some jokessing him some songs but the king feels even worsefinally the fool says what is it that hurts you so much how can i helpand the king says i need a sip of water to cool my throatso the fool takes a cup from the bedstand fills it with water and hands it to the kingsuddenly the king feels a lot better and when he looks to his hands he sees that it was the holy grail the fool handed himan ordinary cup that had been beside his bed all alongand the king asks how can this behow could you find what all my knights and wisest men could not find and the fool answers i dont know i only knew you were thirsty and for the first time since he was a boy the king felt more than a man not because he was touched by gods glorybut rather by the compassion of a fool']\n",
      "\n",
      "longest conversation has 553 words.\n",
      "filetered 129127 conversations\n",
      "\n"
     ]
    },
    {
     "data": {
      "image/png": "[encoded data removed]",
      "text/plain": [
       "<Figure size 576x576 with 1 Axes>"
      ]
     },
     "metadata": {
      "needs_background": "light"
     },
     "output_type": "display_data"
    },
    {
     "name": "stdout",
     "output_type": "stream",
     "text": [
      "longest conversation in reduce dataset: \n",
      "['do you really want me to forget about you'\n",
      " 'i dont want to drag you down with me']\n",
      "\n",
      "longest conversation in reduce dataset has 18 words.\n"
     ]
    }
   ],
   "source": [
    "hist, edges  = np.histogram([len(question.split(' ')) + len(answer.split(' ')) for question, answer in conversations_pairs], density=True, bins=100)\n",
    "center = (edges[:-1] + edges[1:]) / 2\n",
    "f, ax = plt.subplots(figsize=(8, 8))\n",
    "plt.xlabel('all conversations', fontsize=14)\n",
    "plt.bar(center, hist, align='center', width=(edges[1] - edges[0]) * .8)\n",
    "plt.grid()\n",
    "plt.show()\n",
    "\n",
    "longest_converastion = conversations_pairs[np.array([len(question.split(' ')) + len(answer.split(' ')) for question, answer in conversations_pairs]).argmax()]\n",
    "print(\"longest conversation: \\n{}\\n\".format(longest_converastion))\n",
    "print(\"longest conversation has {} words.\".format(len(longest_converastion[0].split(' ')) + len(longest_converastion[1].split(' '))))\n",
    "max_sentence_lenght = 10  # maximum alowed converastion lenght in words\n",
    "clensed_conversations = np.array([conversation_pair for conversation_pair in conversations_pairs  if len(conversation_pair[0].split(' ')) < max_sentence_lenght and len(conversation_pair[1].split(' '))  < max_sentence_lenght ])\n",
    "print(\"filetered {} conversations\\n\".format(len(conversations_pairs) - len(clensed_conversations)))\n",
    "\n",
    "hist, edges  = np.histogram([len(question.split(' ')) + len(answer.split(' ')) for question, answer in clensed_conversations], density=True, bins=100)\n",
    "center = (edges[:-1] + edges[1:]) / 2\n",
    "f, ax = plt.subplots(figsize=(8, 8))\n",
    "plt.bar(center, hist, align='center', width=(edges[1] - edges[0]) * .8)\n",
    "plt.xlabel('reduced conversations', fontsize=14)\n",
    "plt.grid()\n",
    "plt.show()\n",
    "longest_converastion = clensed_conversations[np.array([len(question.split(' ')) + len(answer.split(' ')) for question, answer in clensed_conversations]).argmax()]\n",
    "print(\"longest conversation in reduce dataset: \\n{}\\n\".format(longest_converastion))\n",
    "print(\"longest conversation in reduce dataset has {} words.\".format(len(longest_converastion[0].split(' ')) + len(longest_converastion[1].split(' '))))\n",
    "\n"
   ]
  },
  {
   "cell_type": "markdown",
   "metadata": {},
   "source": [
    "# Shity magic"
   ]
  },
  {
   "cell_type": "code",
   "execution_count": 6,
   "metadata": {},
   "outputs": [
    {
     "name": "stdout",
     "output_type": "stream",
     "text": [
      "first word: you, last word: explaining\n",
      "max sentence lenght: 9 words\n",
      "vocab_size: 26968 words\n",
      "trainX steps 73991\n",
      "0\n",
      "10000\n",
      "20000\n",
      "30000\n",
      "40000\n",
      "50000\n",
      "60000\n",
      "70000\n",
      "trainY steps 73991\n",
      "0\n",
      "10000\n",
      "20000\n",
      "30000\n",
      "40000\n",
      "50000\n",
      "60000\n",
      "70000\n",
      "testX steps 18498\n",
      "0\n",
      "10000\n",
      "testY steps 18498\n",
      "0\n",
      "10000\n"
     ]
    }
   ],
   "source": [
    "tokenizer = Tokenizer()\n",
    "tokenizer.fit_on_texts(clensed_conversations.reshape(-1))\n",
    "vocabulary = np.fromiter(tokenizer.word_index.keys(), dtype=\"<U34\")\n",
    "\n",
    "# vocabulary = set()\n",
    "all_lines = clensed_conversations.reshape(-1)\n",
    "# for line in all_lines:\n",
    "#     for word in line.split():\n",
    "#         if word not in vocabulary:\n",
    "#             vocabulary.add(word)\n",
    "# vocabulary = np.array(sorted(vocabulary))\n",
    "\n",
    "max_sentence_lenght = max(len(line.split()) for line in all_lines)\n",
    "print(\"first word: {}, last word: {}\".format(vocabulary[0], vocabulary[-1]))\n",
    "print('max sentence lenght: {} words'.format(max_sentence_lenght))\n",
    "print('vocab_size: {} words'.format(len(vocabulary)))\n",
    "\n",
    "split_index = int(len(clensed_conversations) * .8)\n",
    "\n",
    "trainX = np.zeros((len(clensed_conversations[:split_index]), max_sentence_lenght), dtype='uint16')\n",
    "trainY = np.zeros((len(clensed_conversations[:split_index]), max_sentence_lenght, len(vocabulary)), dtype='uint8')\n",
    "testX = np.zeros((len(clensed_conversations[split_index:]), max_sentence_lenght), dtype='uint16')\n",
    "testY = np.zeros((len(clensed_conversations[split_index:]), max_sentence_lenght, len(vocabulary)), dtype='uint8')\n",
    "\n",
    "print(\"trainX steps {}\".format(len(trainX)))\n",
    "for i, (sentence) in enumerate(clensed_conversations[:split_index, 0]):\n",
    "    if i % 10000 == 0:\n",
    "        print(i)\n",
    "    for j, (word) in enumerate(sentence.split()):\n",
    "        trainX[i, j] = np.where(vocabulary == word)[0][0]\n",
    "        \n",
    "print(\"trainY steps {}\".format(len(trainY)))\n",
    "for i, (sentence) in enumerate(clensed_conversations[:split_index, 1]):\n",
    "    if i % 10000 == 0:\n",
    "        print(i)\n",
    "    for j, (word) in enumerate(sentence.split()):\n",
    "        index_of_word = np.where(vocabulary == word)[0][0]\n",
    "        trainY[i, j, index_of_word] = 1\n",
    "        \n",
    "print(\"testX steps {}\".format(len(testX)))\n",
    "for i, (sentence) in enumerate(clensed_conversations[split_index:, 0]):\n",
    "    if i % 10000 == 0:\n",
    "        print(i)\n",
    "    for j, (word) in enumerate(sentence.split()):\n",
    "        testX[i, j] = np.where(vocabulary == word)[0][0]\n",
    "        \n",
    "print(\"testY steps {}\".format(len(testY)))\n",
    "for i, (sentence) in enumerate(clensed_conversations[split_index:, 1]):\n",
    "    if i % 10000 == 0:\n",
    "        print(i)\n",
    "    for j, (word) in enumerate(sentence.split()):\n",
    "        index_of_word = np.where(vocabulary == word)[0][0]\n",
    "        testY[i, j, index_of_word] = 1"
   ]
  },
  {
   "cell_type": "markdown",
   "metadata": {},
   "source": [
    "# Define Model"
   ]
  },
  {
   "cell_type": "code",
   "execution_count": 7,
   "metadata": {},
   "outputs": [
    {
     "name": "stdout",
     "output_type": "stream",
     "text": [
      "_________________________________________________________________\n",
      "Layer (type)                 Output Shape              Param #   \n",
      "=================================================================\n",
      "embedding_1 (Embedding)      (None, 9, 256)            6903808   \n",
      "_________________________________________________________________\n",
      "lstm_1 (LSTM)                (None, 256)               525312    \n",
      "_________________________________________________________________\n",
      "repeat_vector_1 (RepeatVecto (None, 9, 256)            0         \n",
      "_________________________________________________________________\n",
      "lstm_2 (LSTM)                (None, 9, 256)            525312    \n",
      "_________________________________________________________________\n",
      "time_distributed_1 (TimeDist (None, 9, 26968)          6930776   \n",
      "=================================================================\n",
      "Total params: 14,885,208\n",
      "Trainable params: 14,885,208\n",
      "Non-trainable params: 0\n",
      "_________________________________________________________________\n"
     ]
    }
   ],
   "source": [
    "K.clear_session()\n",
    "n_units=256\n",
    "model = Sequential()\n",
    "model.add(Embedding(len(vocabulary), n_units, input_length=max_sentence_lenght, mask_zero=True))\n",
    "model.add(LSTM(n_units))  # CuDNNLSTM\n",
    "model.add(RepeatVector(max_sentence_lenght))\n",
    "model.add(LSTM(n_units, return_sequences=True))  # CuDNNLSTM\n",
    "model.add(TimeDistributed(Dense(len(vocabulary), activation='softmax')))\n",
    "\n",
    "model.compile(optimizer='adam', loss='categorical_crossentropy')\n",
    "# summarize defined model\n",
    "model.summary()"
   ]
  },
  {
   "cell_type": "markdown",
   "metadata": {},
   "source": [
    "# Training"
   ]
  },
  {
   "cell_type": "code",
   "execution_count": 8,
   "metadata": {},
   "outputs": [
    {
     "name": "stdout",
     "output_type": "stream",
     "text": [
      "Train on 73991 samples, validate on 18498 samples\n",
      "Epoch 1/20\n",
      "73991/73991 [==============================] - 1043s 14ms/step - loss: 3.4123 - val_loss: 3.4313\n",
      "\n",
      "Epoch 00001: loss improved from inf to 3.41232, saving model to mount-this/model.h5\n",
      "Epoch 2/20\n",
      "73991/73991 [==============================] - 985s 13ms/step - loss: 3.2973 - val_loss: 3.4018\n",
      "\n",
      "Epoch 00002: loss improved from 3.41232 to 3.29726, saving model to mount-this/model.h5\n",
      "Epoch 3/20\n",
      "73991/73991 [==============================] - 994s 13ms/step - loss: 3.2295 - val_loss: 3.3002\n",
      "\n",
      "Epoch 00003: loss improved from 3.29726 to 3.22949, saving model to mount-this/model.h5\n",
      "Epoch 4/20\n",
      "73991/73991 [==============================] - 996s 13ms/step - loss: 3.1347 - val_loss: 3.2992\n",
      "\n",
      "Epoch 00004: loss improved from 3.22949 to 3.13471, saving model to mount-this/model.h5\n",
      "Epoch 5/20\n",
      "73991/73991 [==============================] - 985s 13ms/step - loss: 3.0955 - val_loss: 3.2977\n",
      "\n",
      "Epoch 00005: loss improved from 3.13471 to 3.09554, saving model to mount-this/model.h5\n",
      "Epoch 6/20\n",
      "73991/73991 [==============================] - 997s 13ms/step - loss: 3.0609 - val_loss: 3.3024\n",
      "\n",
      "Epoch 00006: loss improved from 3.09554 to 3.06091, saving model to mount-this/model.h5\n",
      "Epoch 7/20\n",
      "73991/73991 [==============================] - 1036s 14ms/step - loss: 3.0227 - val_loss: 3.3120\n",
      "\n",
      "Epoch 00007: loss improved from 3.06091 to 3.02271, saving model to mount-this/model.h5\n",
      "Epoch 8/20\n",
      "73991/73991 [==============================] - 1073s 15ms/step - loss: 2.9798 - val_loss: 3.3268\n",
      "\n",
      "Epoch 00008: loss improved from 3.02271 to 2.97982, saving model to mount-this/model.h5\n",
      "Epoch 9/20\n",
      "73991/73991 [==============================] - 1086s 15ms/step - loss: 2.9334 - val_loss: 3.3411\n",
      "\n",
      "Epoch 00009: loss improved from 2.97982 to 2.93345, saving model to mount-this/model.h5\n",
      "Epoch 10/20\n",
      "73991/73991 [==============================] - 1004s 14ms/step - loss: 2.8832 - val_loss: 3.3658\n",
      "\n",
      "Epoch 00010: loss improved from 2.93345 to 2.88320, saving model to mount-this/model.h5\n",
      "Epoch 11/20\n",
      "73991/73991 [==============================] - 993s 13ms/step - loss: 2.8317 - val_loss: 3.3826\n",
      "\n",
      "Epoch 00011: loss improved from 2.88320 to 2.83167, saving model to mount-this/model.h5\n",
      "Epoch 12/20\n",
      "73991/73991 [==============================] - 988s 13ms/step - loss: 2.7790 - val_loss: 3.4038\n",
      "\n",
      "Epoch 00012: loss improved from 2.83167 to 2.77898, saving model to mount-this/model.h5\n",
      "Epoch 13/20\n",
      "73991/73991 [==============================] - 991s 13ms/step - loss: 2.7256 - val_loss: 3.4286\n",
      "\n",
      "Epoch 00013: loss improved from 2.77898 to 2.72561, saving model to mount-this/model.h5\n",
      "Epoch 14/20\n",
      "73991/73991 [==============================] - 1084s 15ms/step - loss: 2.6728 - val_loss: 3.4528\n",
      "\n",
      "Epoch 00014: loss improved from 2.72561 to 2.67284, saving model to mount-this/model.h5\n",
      "Epoch 15/20\n",
      "73991/73991 [==============================] - 1037s 14ms/step - loss: 2.6195 - val_loss: 3.4808\n",
      "\n",
      "Epoch 00015: loss improved from 2.67284 to 2.61953, saving model to mount-this/model.h5\n",
      "Epoch 16/20\n",
      "73991/73991 [==============================] - 993s 13ms/step - loss: 2.5678 - val_loss: 3.5055\n",
      "\n",
      "Epoch 00016: loss improved from 2.61953 to 2.56781, saving model to mount-this/model.h5\n",
      "Epoch 17/20\n",
      "73991/73991 [==============================] - 987s 13ms/step - loss: 2.5162 - val_loss: 3.5309\n",
      "\n",
      "Epoch 00017: loss improved from 2.56781 to 2.51617, saving model to mount-this/model.h5\n",
      "Epoch 18/20\n",
      "73991/73991 [==============================] - 986s 13ms/step - loss: 2.4673 - val_loss: 3.5539\n",
      "\n",
      "Epoch 00018: loss improved from 2.51617 to 2.46729, saving model to mount-this/model.h5\n",
      "Epoch 19/20\n",
      "73991/73991 [==============================] - 985s 13ms/step - loss: 2.4186 - val_loss: 3.5834\n",
      "\n",
      "Epoch 00019: loss improved from 2.46729 to 2.41860, saving model to mount-this/model.h5\n",
      "Epoch 20/20\n",
      "73991/73991 [==============================] - 1044s 14ms/step - loss: 2.3715 - val_loss: 3.6037\n",
      "\n",
      "Epoch 00020: loss improved from 2.41860 to 2.37152, saving model to mount-this/model.h5\n"
     ]
    },
    {
     "data": {
      "text/plain": [
       "<keras.callbacks.History at 0x821e10d68>"
      ]
     },
     "execution_count": 8,
     "metadata": {},
     "output_type": "execute_result"
    }
   ],
   "source": [
    "# fit model\n",
    "filename = 'mount-this/model.h5'\n",
    "checkpoint = ModelCheckpoint(filename, monitor='loss', verbose=1, save_best_only=True, mode='min')\n",
    "model.fit(trainX, trainY, epochs=20, batch_size=64, validation_data=(testX, testY), callbacks=[checkpoint], verbose=1)"
   ]
  },
  {
   "cell_type": "code",
   "execution_count": 9,
   "metadata": {},
   "outputs": [],
   "source": [
    "model = load_model(\"mount-this/model.h5\")"
   ]
  },
  {
   "cell_type": "code",
   "execution_count": 12,
   "metadata": {},
   "outputs": [
    {
     "data": {
      "text/plain": [
       "''"
      ]
     },
     "execution_count": 12,
     "metadata": {},
     "output_type": "execute_result"
    }
   ],
   "source": [
    "to_infer = 'hello'\n",
    "source = np.zeros(max_sentence_lenght)\n",
    "\n",
    "for i in range(len(to_infer.split())):\n",
    "    source[i] = np.where(vocabulary == to_infer.split()[i])[0][0]\n",
    "source = source.reshape((1, source.shape[0]))\n",
    "res = model.predict(source)\n",
    "sentence = \" \".join([vocabulary[np.argmax(word_indexes)] for word_indexes in res[0] if np.max(word_indexes) > .2])\n",
    "sentence"
   ]
  },
  {
   "cell_type": "code",
   "execution_count": null,
   "metadata": {},
   "outputs": [],
   "source": []
  }
 ],
 "metadata": {
  "kernelspec": {
   "display_name": "Python 3",
   "language": "python",
   "name": "python3"
  },
  "language_info": {
   "codemirror_mode": {
    "name": "ipython",
    "version": 3
   },
   "file_extension": ".py",
   "mimetype": "text/x-python",
   "name": "python",
   "nbconvert_exporter": "python",
   "pygments_lexer": "ipython3",
   "version": "3.6.5"
  }
 },
 "nbformat": 4,
 "nbformat_minor": 2
}
