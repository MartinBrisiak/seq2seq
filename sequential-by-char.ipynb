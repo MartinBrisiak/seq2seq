{
 "cells": [
  {
   "cell_type": "markdown",
   "metadata": {},
   "source": [
    "# Imports"
   ]
  },
  {
   "cell_type": "code",
   "execution_count": 1,
   "metadata": {},
   "outputs": [
    {
     "name": "stderr",
     "output_type": "stream",
     "text": [
      "Using TensorFlow backend.\n"
     ]
    }
   ],
   "source": [
    "import numpy as np\n",
    "from unicodedata import normalize\n",
    "from pprint import pprint\n",
    "import string\n",
    "import re\n",
    "import matplotlib.pyplot as plt\n",
    "from keras.backend import clear_session\n",
    "from keras.models import Sequential, Model\n",
    "from keras.layers import Dense, LSTM, CuDNNLSTM, Input, Embedding, TimeDistributed, Flatten, Dropout, RepeatVector\n",
    "from keras.callbacks import ModelCheckpoint\n",
    "from keras.preprocessing.text import Tokenizer\n",
    "from keras.preprocessing.sequence import pad_sequences\n",
    "from keras.utils import to_categorical\n",
    "from keras.models import load_model"
   ]
  },
  {
   "cell_type": "markdown",
   "metadata": {},
   "source": [
    "# Reading movie lines"
   ]
  },
  {
   "cell_type": "code",
   "execution_count": 2,
   "metadata": {},
   "outputs": [
    {
     "name": "stdout",
     "output_type": "stream",
     "text": [
      "{'L1044': 'they do to',\n",
      " 'L1045': 'they do not',\n",
      " 'L869': 'like my fear of wearing pastels',\n",
      " 'L870': 'im kidding you know how sometimes you just become this persona and '\n",
      "         'you dont know how to quit',\n",
      " 'L871': 'no',\n",
      " 'L872': 'okay youre gonna need to learn how to lie',\n",
      " 'L924': 'wow',\n",
      " 'L925': 'lets go',\n",
      " 'L984': 'she okay',\n",
      " 'L985': 'i hope so'}\n",
      "\n",
      "[['L194', 'L195', 'L196', 'L197'],\n",
      " ['L198', 'L199'],\n",
      " ['L200', 'L201', 'L202', 'L203'],\n",
      " ['L204', 'L205', 'L206'],\n",
      " ['L207', 'L208'],\n",
      " ['L271', 'L272', 'L273', 'L274', 'L275'],\n",
      " ['L276', 'L277'],\n",
      " ['L280', 'L281'],\n",
      " ['L363', 'L364'],\n",
      " ['L365', 'L366']]\n"
     ]
    }
   ],
   "source": [
    "table = str.maketrans('', '', string.punctuation)\n",
    "# prepare regex for char filtering\n",
    "re_print = re.compile('[^%s]' % re.escape(string.printable))\n",
    "# prepare translation table for removing punctuation\n",
    "table = str.maketrans('', '', string.punctuation)\n",
    "\n",
    "def clean_sentence(line):\n",
    "    line = line.strip().replace('--', '').replace(\"  \", \" \").replace('\"', \"\")\n",
    "    line = normalize('NFD', line).encode('ascii', 'ignore')\n",
    "    line = line.decode('UTF-8')\n",
    "    # tokenize on white space\n",
    "    line = line.split()\n",
    "    # convert to lowercase\n",
    "    line = [word.lower() for word in line]\n",
    "    # remove punctuation from each token\n",
    "    line = [word.translate(table) for word in line]\n",
    "    # remove non-printable chars form each token\n",
    "    line = [re_print.sub('', w) for w in line]\n",
    "    # remove tokens with numbers in them\n",
    "    line = [word for word in line if word.isalpha()]\n",
    "    return ' '.join(line)\n",
    "\n",
    "with open('./cornell-movie-dialogs-corpus/movie_lines.txt', 'r', errors='ignore') as f:\n",
    "    lines_as_list = [row.strip() for row in f.readlines()]\n",
    "\n",
    "\n",
    "lines = {}\n",
    "for line in lines_as_list:\n",
    "    lines[\n",
    "        line.split('+++$+++')[0].strip()\n",
    "    ] = clean_sentence(line.split('+++$+++')[-1])  # clean sentences\n",
    "\n",
    "del lines_as_list\n",
    "\n",
    "with open('./cornell-movie-dialogs-corpus/movie_conversations.txt', 'r', errors='ignore') as f:\n",
    "    conversations = [row.strip() for row in f.readlines()]\n",
    "\n",
    "# only take id's and convert list as string to list as list\n",
    "conversations = [\n",
    "    conversation.split('+++$+++')[-1].strip().replace('[', '').replace(']', '').replace(\"'\", '').replace(\" \", '').split(',') \n",
    "    for conversation in conversations\n",
    "]\n",
    "\n",
    "pprint({k: lines[k] for k in list(lines)[:10]})\n",
    "print()\n",
    "pprint(conversations[:10])\n",
    "\n",
    "assert len([conversation for conversation in conversations if len(conversation) <=1]) == 0\n"
   ]
  },
  {
   "cell_type": "markdown",
   "metadata": {},
   "source": [
    "# map keys to line"
   ]
  },
  {
   "cell_type": "code",
   "execution_count": 3,
   "metadata": {},
   "outputs": [
    {
     "name": "stdout",
     "output_type": "stream",
     "text": [
      "[['yeah', 'what do you think'],\n",
      " ['two legs nice rack',\n",
      "  'yeah whatever i want you to go out with her',\n",
      "  'sure sparky ill get right on it',\n",
      "  'you just said',\n",
      "  'you need money to take a girl out',\n",
      "  'but youd go out with her if you had the cake'],\n",
      " ['you got it verona i pick up the tab you do the honors',\n",
      "  'youre gonna pay me to take out some girl',\n",
      "  'i cant date her sister until that one gets a boyfriend and thats the catch '\n",
      "  'she doesnt want a boyfriend',\n",
      "  'how much'],\n",
      " ['i cant take a girl like that out on twenty bucks', 'fine thirty'],\n",
      " ['take it or leave it this isnt a negotiation',\n",
      "  'fifty and youve got your man'],\n",
      " ['when i shell out fifty i expect results',\n",
      "  'im on it',\n",
      "  'watching the bitch trash my car doesnt count as a date',\n",
      "  'i got her under control she just acts crazed in public to keep up the '\n",
      "  'image'],\n",
      " ['i just upped my price',\n",
      "  'what',\n",
      "  'a hundred bucks a date',\n",
      "  'forget it',\n",
      "  'forget her sister then'],\n",
      " ['its about time', 'a deals a deal'],\n",
      " ['howd you do it', 'do what', 'get her to act like a human'],\n",
      " ['i dont know dorsey the limothe flowers another hundred for the tux',\n",
      "  'enough with the barbie n ken shit i know']]\n"
     ]
    }
   ],
   "source": [
    "conversations_with_lines = []\n",
    "for conversation in conversations:\n",
    "    conversations_with_lines.append([lines[key] for key in conversation])\n",
    "    \n",
    "pprint(conversations_with_lines[100:110])"
   ]
  },
  {
   "cell_type": "markdown",
   "metadata": {},
   "source": [
    "# Pair those things"
   ]
  },
  {
   "cell_type": "code",
   "execution_count": 4,
   "metadata": {},
   "outputs": [
    {
     "name": "stdout",
     "output_type": "stream",
     "text": [
      "array(['can we make this quick roxanne korrine and andrew barrett are having an incredibly horrendous public break up on the quad again',\n",
      "       'well i thought wed start with pronunciation if thats okay with you'],\n",
      "      dtype='<U2857')\n",
      "array(['well i thought wed start with pronunciation if thats okay with you',\n",
      "       'not the hacking and gagging and spitting part please'],\n",
      "      dtype='<U2857')\n",
      "array(['not the hacking and gagging and spitting part please',\n",
      "       'okay then how bout we try out some french cuisine saturday night'],\n",
      "      dtype='<U2857')\n",
      "array(['youre asking me out thats so cute whats your name again',\n",
      "       'forget it'], dtype='<U2857')\n",
      "array(['no no its my fault we didnt have a proper introduction',\n",
      "       'cameron'], dtype='<U2857')\n",
      "array(['cameron',\n",
      "       'the thing is cameron im at the mercy of a particularly hideous breed of loser my sister i cant date until she does'],\n",
      "      dtype='<U2857')\n",
      "array(['the thing is cameron im at the mercy of a particularly hideous breed of loser my sister i cant date until she does',\n",
      "       'seems like she could get a date easy enough'], dtype='<U2857')\n",
      "array(['why',\n",
      "       'unsolved mystery she used to be really popular when she started high school then it was just like she got sick of it or something'],\n",
      "      dtype='<U2857')\n",
      "array(['unsolved mystery she used to be really popular when she started high school then it was just like she got sick of it or something',\n",
      "       'thats a shame'], dtype='<U2857')\n",
      "array(['gosh if only we could find kat a boyfriend',\n",
      "       'let me see what i can do'], dtype='<U2857')\n"
     ]
    }
   ],
   "source": [
    "def pair_it(my_list):\n",
    "    pairs = []\n",
    "    for i in range(len(my_list) -1):\n",
    "        pairs.append([my_list[i], my_list[i + 1]])\n",
    "    return pairs\n",
    "\n",
    "paired_conversations_agg = [\n",
    "    pair_it(conversation) for conversation in conversations_with_lines\n",
    "]\n",
    "conversations_pairs = np.array([item for sublist in paired_conversations_agg for item in sublist])\n",
    "for i in range(10):\n",
    "    pprint(conversations_pairs[i])"
   ]
  },
  {
   "cell_type": "markdown",
   "metadata": {},
   "source": [
    "# Noise reduction"
   ]
  },
  {
   "cell_type": "code",
   "execution_count": 5,
   "metadata": {},
   "outputs": [
    {
     "data": {
      "image/png": "[encoded data removed]",
      "text/plain": [
       "<Figure size 720x720 with 1 Axes>"
      ]
     },
     "metadata": {
      "needs_background": "light"
     },
     "output_type": "display_data"
    },
    {
     "name": "stdout",
     "output_type": "stream",
     "text": [
      "longest conversation: \n",
      "['the food and drug administration said wednesday female deodorant sprays may cause such harmful reactions as blisters burns and rashes although the fda judges that the reported reactions are not sufficient to justify removal of these products from the market they are sufficient to warrant the proposed mandatory label warnings'\n",
      " 'shit o dear thats enough to make me asthmatic the nerve of those twits what do they know about female odor dont interrupt heres my concept my ranch out west its a beauty ranch oh its got a few head of cattle for atmosphere and tax purposes but its a beauty ranch a place where unhappy women divorcees and widows mainly can go to lose weight remove wrinkles change their hair styles and pretty themselves up for the next disappointment my ranch is named the rubber rose after the rubber rose douche bag my own invention and bless its little red bladder the most popular douche bag in the world so get this its on the migratory flight path of the whooping cranes the last flock of wild whooping cranes left in existence well these cranes stop off at my little pond siwash lake its called twice a year autumn and spring and spend a few days each time resting up eating doing whatever whooping cranes do ive never seen them understand but i hear theyre magnificent very big specimens i mean huge mothers and white as snow to coin a phrase except for black tips on their wings and tail feathers and bright red heads now whooping cranes in case you didnt know it are noted for their mating dance its just the wildest show in nature its probably the reason why birdwatching used to be so popular with old maids and deacons picture these rare beautiful gigantic birds in full dance leaping six feet off the mud arching their backs flapping their wings strutting low to the ground dears its overwhelming and picture the birds doing their sex dance on tv right there on the home screen creations most elaborate sex ritual yet clean and pure enough to suit the pope with lovely sissy hankshaw in the foreground in a white gown red hood attached and big feathery sleeves trimmed in black in a very subdued imitation of the female whooping crane she dancewalks over to a large nest in which there sits a can of yoni yum and a can of dew offcamera a string quartet is playing debussy a sensuous voice is reading a few poetic lines about courtship and love are you starting to get it doesnt it make the hair on your neck stand up and applaud my very goodness gracious grandiose lyrical erotic and girl scout oriented you cant top it ive hired a crew of experts from walt disney studios the best wildlife cinematographers around youre my eternal favorite princess grace herself couldnt be better not even if she had your personality which she doesnt anyway dear im out of photography now and into water colors ah how circuitous conversation is were back at the beginning the exact man ive wanted you to meet is my artist the watercolorist']\n",
      "\n",
      "longest conversation lenght: 2948\n",
      "filetered 2473 conversations\n"
     ]
    }
   ],
   "source": [
    "hist, edges = np.histogram([len(question) + len(answer) for question, answer in conversations_pairs], density=True, bins=100)\n",
    "center = (edges[:-1] + edges[1:]) / 2\n",
    "f, ax = plt.subplots(figsize=(10, 10))\n",
    "plt.bar(center, hist, align='center', width=(edges[1] - edges[0]) * .8)\n",
    "plt.grid()\n",
    "plt.show()\n",
    "\n",
    "longest_converastion = conversations_pairs[np.array([len(question) + len(answer) for question, answer in conversations_pairs]).argmax()]\n",
    "print(\"longest conversation: \\n{}\".format(longest_converastion))\n",
    "print(\"\\nlongest conversation lenght: {}\".format(len(longest_converastion[0]) + len(longest_converastion[1])))\n",
    "max_conversation_lenght = 400  # maximum alowed converastion lenght in characters\n",
    "clensed_conversations = np.array([conversation_pair for conversation_pair in conversations_pairs if len(conversation_pair[0]) + len(conversation_pair[1]) < max_conversation_lenght])\n",
    "print(\"filetered {} conversations\".format(len(conversations_pairs) - len(clensed_conversations)))"
   ]
  },
  {
   "cell_type": "markdown",
   "metadata": {},
   "source": [
    "# Shity magic"
   ]
  },
  {
   "cell_type": "code",
   "execution_count": 6,
   "metadata": {},
   "outputs": [
    {
     "name": "stdout",
     "output_type": "stream",
     "text": [
      "Number of unique input tokens: 27\n",
      "Max sequence length for inputs: 397\n",
      "Max sequence length for outputs: 396\n",
      "trainX (175314, 397) | trainY (175314, 397, 27) | testX (43829, 397) | testY (43829, 397, 27)\n",
      "[' ', 'a', 'b', 'c', 'd', 'e', 'f', 'g', 'h', 'i', 'j', 'k', 'l', 'm', 'n', 'o', 'p', 'q', 'r', 's', 't', 'u', 'v', 'w', 'x', 'y', 'z']\n"
     ]
    }
   ],
   "source": [
    "input_characters = set()\n",
    "\n",
    "for input_text, target_text in clensed_conversations:\n",
    "    # We use \"tab\" as the \"start sequence\" character\n",
    "    # for the targets, and \"\\n\" as \"end sequence\" character.\n",
    "    for char in input_text:\n",
    "        if char not in input_characters:\n",
    "            input_characters.add(char)\n",
    "    for char in target_text:\n",
    "        if char not in input_characters:\n",
    "            input_characters.add(char)\n",
    "            \n",
    "input_characters = sorted(list(input_characters))\n",
    "# target_characters = sorted(list(target_characters))\n",
    "num_tokens = len(input_characters)\n",
    "# num_target_tokens = len(target_characters)\n",
    "max_input_seq_length = max([len(input_text) for input_text, target_text in clensed_conversations])\n",
    "max_target_seq_length = max([len(target_text) for input_text, target_text in clensed_conversations])\n",
    "max_sentence_lenght = max(max_input_seq_length, max_target_seq_length)\n",
    "\n",
    "print('Number of unique input tokens:', num_tokens)\n",
    "print('Max sequence length for inputs:', max_input_seq_length)\n",
    "print('Max sequence length for outputs:', max_target_seq_length)\n",
    "\n",
    "token_index = dict([(char, i) for i, char in enumerate(input_characters)])\n",
    "\n",
    "split_index = int(len(clensed_conversations) * .8)\n",
    "pre_trainX = clensed_conversations[:split_index, 0]\n",
    "pre_trainY = clensed_conversations[:split_index, 1]\n",
    "pre_testX = clensed_conversations[split_index:, 0]\n",
    "pre_testY = clensed_conversations[split_index:, 1]\n",
    "\n",
    "trainX = np.zeros((len(pre_trainX), max_sentence_lenght), dtype='float32')\n",
    "trainY = np.zeros((len(pre_trainY), max_sentence_lenght, num_tokens), dtype='float32')\n",
    "testX = np.zeros((len(pre_testX), max_sentence_lenght), dtype='float32')\n",
    "testY = np.zeros((len(pre_testY), max_sentence_lenght, num_tokens), dtype='float32')\n",
    "\n",
    "print(\"trainX {} | trainY {} | testX {} | testY {}\".format(trainX.shape, trainY.shape, testX.shape, testY.shape))\n",
    "\n",
    "for i, (input_text) in enumerate(pre_trainX):\n",
    "    for t, char in enumerate(input_text):\n",
    "        trainX[i, t] = token_index[char]\n",
    "\n",
    "for i, (target_text) in enumerate(pre_trainY):\n",
    "    for t, char in enumerate(target_text):\n",
    "        trainY[i, t, token_index[char]] = 1.\n",
    "\n",
    "for i, (input_text) in enumerate(pre_testX):\n",
    "    for t, char in enumerate(input_text):\n",
    "        testX[i, t] = token_index[char]\n",
    "\n",
    "for i, (target_text) in enumerate(pre_testY):\n",
    "    for t, char in enumerate(target_text):\n",
    "        testY[i, t, token_index[char]] = 1.\n",
    "        \n",
    "print(input_characters)"
   ]
  },
  {
   "cell_type": "markdown",
   "metadata": {},
   "source": [
    "# Define Model"
   ]
  },
  {
   "cell_type": "code",
   "execution_count": 7,
   "metadata": {},
   "outputs": [
    {
     "name": "stdout",
     "output_type": "stream",
     "text": [
      "_________________________________________________________________\n",
      "Layer (type)                 Output Shape              Param #   \n",
      "=================================================================\n",
      "embedding_1 (Embedding)      (None, 397, 256)          6912      \n",
      "_________________________________________________________________\n",
      "lstm_1 (LSTM)                (None, 256)               525312    \n",
      "_________________________________________________________________\n",
      "repeat_vector_1 (RepeatVecto (None, 397, 256)          0         \n",
      "_________________________________________________________________\n",
      "lstm_2 (LSTM)                (None, 397, 256)          525312    \n",
      "_________________________________________________________________\n",
      "time_distributed_1 (TimeDist (None, 397, 27)           6939      \n",
      "=================================================================\n",
      "Total params: 1,064,475\n",
      "Trainable params: 1,064,475\n",
      "Non-trainable params: 0\n",
      "_________________________________________________________________\n"
     ]
    }
   ],
   "source": [
    "clear_session()\n",
    "n_units=256\n",
    "model = Sequential()\n",
    "model.add(Embedding(num_tokens, n_units, input_length=max_sentence_lenght, mask_zero=True))\n",
    "model.add(LSTM(n_units))  # CuDNNLSTM\n",
    "model.add(RepeatVector(max_sentence_lenght))\n",
    "model.add(LSTM(n_units, return_sequences=True))  # CuDNNLSTM\n",
    "model.add(TimeDistributed(Dense(num_tokens, activation='softmax')))\n",
    "\n",
    "model.compile(optimizer='adam', loss='categorical_crossentropy')\n",
    "# summarize defined model\n",
    "model.summary()"
   ]
  },
  {
   "cell_type": "markdown",
   "metadata": {},
   "source": [
    "# Training"
   ]
  },
  {
   "cell_type": "code",
   "execution_count": null,
   "metadata": {},
   "outputs": [],
   "source": [
    "# fit model\n",
    "filename = 'mount-this/model.h5'\n",
    "checkpoint = ModelCheckpoint(filename, monitor='val_loss', verbose=1, save_best_only=True, mode='min')\n",
    "model.fit(trainX, trainY, epochs=30, batch_size=64, validation_data=(testX, testY), callbacks=[checkpoint], verbose=1)"
   ]
  },
  {
   "cell_type": "code",
   "execution_count": 8,
   "metadata": {},
   "outputs": [],
   "source": [
    "model = load_model('chatbot-seq-400.h5')"
   ]
  },
  {
   "cell_type": "code",
   "execution_count": 20,
   "metadata": {},
   "outputs": [
    {
     "name": "stdout",
     "output_type": "stream",
     "text": [
      "how are you -> fi e\n"
     ]
    }
   ],
   "source": [
    "to_infer = 'how are you'\n",
    "source = np.zeros(max_sentence_lenght)\n",
    "\n",
    "for i in range(len(to_infer)):\n",
    "    source[i] = token_index[to_infer[i]]\n",
    "source = source.reshape((1, source.shape[0]))\n",
    "res = model.predict(source)\n",
    "sentence = \"\".join([input_characters[np.argmax(char_indxes)] for char_indxes in res[0]])\n",
    "print(to_infer + \" -> \" + sentence.strip())"
   ]
  },
  {
   "cell_type": "code",
   "execution_count": null,
   "metadata": {},
   "outputs": [],
   "source": []
  }
 ],
 "metadata": {
  "kernelspec": {
   "display_name": "Python 3",
   "language": "python",
   "name": "python3"
  },
  "language_info": {
   "codemirror_mode": {
    "name": "ipython",
    "version": 3
   },
   "file_extension": ".py",
   "mimetype": "text/x-python",
   "name": "python",
   "nbconvert_exporter": "python",
   "pygments_lexer": "ipython3",
   "version": "3.6.5"
  }
 },
 "nbformat": 4,
 "nbformat_minor": 2
}
