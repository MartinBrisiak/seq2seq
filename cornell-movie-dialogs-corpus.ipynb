{
 "cells": [
  {
   "cell_type": "markdown",
   "metadata": {},
   "source": [
    "# imports"
   ]
  },
  {
   "cell_type": "code",
   "execution_count": 1,
   "metadata": {},
   "outputs": [
    {
     "name": "stderr",
     "output_type": "stream",
     "text": [
      "Using TensorFlow backend.\n"
     ]
    }
   ],
   "source": [
    "# Importing needed dependencies :\n",
    "import pandas as pd\n",
    "import numpy as np\n",
    "import string\n",
    "from string import digits\n",
    "\n",
    "from keras.models import Sequential, Model\n",
    "from keras.layers import Dense, LSTM, CuDNNLSTM, Input, Embedding, TimeDistributed, Flatten, Dropout\n",
    "from keras.callbacks import ModelCheckpoint"
   ]
  },
  {
   "cell_type": "code",
   "execution_count": 3,
   "metadata": {},
   "outputs": [
    {
     "name": "stdout",
     "output_type": "stream",
     "text": [
      "['L1045 +++$+++ u0 +++$+++ m0 +++$+++ BIANCA +++$+++ They do not!\\n', 'L1044 +++$+++ u2 +++$+++ m0 +++$+++ CAMERON +++$+++ They do to!\\n', 'L985 +++$+++ u0 +++$+++ m0 +++$+++ BIANCA +++$+++ I hope so.\\n', 'L984 +++$+++ u2 +++$+++ m0 +++$+++ CAMERON +++$+++ She okay?\\n', \"L925 +++$+++ u0 +++$+++ m0 +++$+++ BIANCA +++$+++ Let's go.\\n\", 'L924 +++$+++ u2 +++$+++ m0 +++$+++ CAMERON +++$+++ Wow\\n', \"L872 +++$+++ u0 +++$+++ m0 +++$+++ BIANCA +++$+++ Okay -- you're gonna need to learn how to lie.\\n\", 'L871 +++$+++ u2 +++$+++ m0 +++$+++ CAMERON +++$+++ No\\n', 'L870 +++$+++ u0 +++$+++ m0 +++$+++ BIANCA +++$+++ I\\'m kidding.  You know how sometimes you just become this \"persona\"?  And you don\\'t know how to quit?\\n', 'L869 +++$+++ u0 +++$+++ m0 +++$+++ BIANCA +++$+++ Like my fear of wearing pastels?\\n', 'L868 +++$+++ u2 +++$+++ m0 +++$+++ CAMERON +++$+++ The \"real you\".\\n', 'L867 +++$+++ u0 +++$+++ m0 +++$+++ BIANCA +++$+++ What good stuff?\\n', \"L866 +++$+++ u2 +++$+++ m0 +++$+++ CAMERON +++$+++ I figured you'd get to the good stuff eventually.\\n\", 'L865 +++$+++ u2 +++$+++ m0 +++$+++ CAMERON +++$+++ Thank God!  If I had to hear one more story about your coiffure...\\n', \"L864 +++$+++ u0 +++$+++ m0 +++$+++ BIANCA +++$+++ Me.  This endless ...blonde babble. I'm like, boring myself.\\n\", 'L863 +++$+++ u2 +++$+++ m0 +++$+++ CAMERON +++$+++ What crap?\\n', 'L862 +++$+++ u0 +++$+++ m0 +++$+++ BIANCA +++$+++ do you listen to this crap?\\n', 'L861 +++$+++ u2 +++$+++ m0 +++$+++ CAMERON +++$+++ No...\\n', 'L860 +++$+++ u0 +++$+++ m0 +++$+++ BIANCA +++$+++ Then Guillermo says, \"If you go any lighter, you\\'re gonna look like an extra on 90210.\"\\n', 'L699 +++$+++ u2 +++$+++ m0 +++$+++ CAMERON +++$+++ You always been this selfish?\\n', 'L698 +++$+++ u0 +++$+++ m0 +++$+++ BIANCA +++$+++ But\\n', \"L697 +++$+++ u2 +++$+++ m0 +++$+++ CAMERON +++$+++ Then that's all you had to say.\\n\", 'L696 +++$+++ u0 +++$+++ m0 +++$+++ BIANCA +++$+++ Well, no...\\n', \"L695 +++$+++ u2 +++$+++ m0 +++$+++ CAMERON +++$+++ You never wanted to go out with 'me, did you?\\n\", 'L694 +++$+++ u0 +++$+++ m0 +++$+++ BIANCA +++$+++ I was?\\n', 'L693 +++$+++ u2 +++$+++ m0 +++$+++ CAMERON +++$+++ I looked for you back at the party, but you always seemed to be \"occupied\".\\n', 'L663 +++$+++ u0 +++$+++ m0 +++$+++ BIANCA +++$+++ Tons\\n', 'L662 +++$+++ u2 +++$+++ m0 +++$+++ CAMERON +++$+++ Have fun tonight?\\n', 'L578 +++$+++ u2 +++$+++ m0 +++$+++ CAMERON +++$+++ I believe we share an art instructor\\n', 'L577 +++$+++ u0 +++$+++ m0 +++$+++ BIANCA +++$+++ You know Chastity?\\n', 'L576 +++$+++ u2 +++$+++ m0 +++$+++ CAMERON +++$+++ Looks like things worked out tonight, huh?\\n', 'L575 +++$+++ u0 +++$+++ m0 +++$+++ BIANCA +++$+++ Hi.\\n', \"L407 +++$+++ u0 +++$+++ m0 +++$+++ BIANCA +++$+++ Who knows?  All I've ever heard her say is that she'd dip before dating a guy that smokes.\\n\", \"L406 +++$+++ u2 +++$+++ m0 +++$+++ CAMERON +++$+++ So that's the kind of guy she likes? Pretty ones?\\n\", \"L405 +++$+++ u0 +++$+++ m0 +++$+++ BIANCA +++$+++ Lesbian?  No. I found a picture of Jared Leto in one of her drawers, so I'm pretty sure she's not harboring same-sex tendencies.\\n\", \"L404 +++$+++ u2 +++$+++ m0 +++$+++ CAMERON +++$+++ She's not a...\\n\", \"L403 +++$+++ u2 +++$+++ m0 +++$+++ CAMERON +++$+++ I'm workin' on it. But she doesn't seem to be goin' for him.\\n\", \"L402 +++$+++ u0 +++$+++ m0 +++$+++ BIANCA +++$+++ I really, really, really wanna go, but I can't.  Not unless my sister goes.\\n\", 'L401 +++$+++ u2 +++$+++ m0 +++$+++ CAMERON +++$+++ Sure have.\\n', \"L368 +++$+++ u0 +++$+++ m0 +++$+++ BIANCA +++$+++ Eber's Deep Conditioner every two days. And I never, ever use a blowdryer without the diffuser attachment.\\n\", 'L367 +++$+++ u2 +++$+++ m0 +++$+++ CAMERON +++$+++ How do you get your hair to look like that?\\n', \"L366 +++$+++ u0 +++$+++ m0 +++$+++ BIANCA +++$+++ You're sweet.\\n\", 'L365 +++$+++ u2 +++$+++ m0 +++$+++ CAMERON +++$+++ You have my word.  As a gentleman\\n', \"L364 +++$+++ u0 +++$+++ m0 +++$+++ BIANCA +++$+++ I counted on you to help my cause. You and that thug are obviously failing. Aren't we ever going on our date?\\n\", 'L363 +++$+++ u2 +++$+++ m0 +++$+++ CAMERON +++$+++ You got something on your mind?\\n', 'L281 +++$+++ u0 +++$+++ m0 +++$+++ BIANCA +++$+++ Where?\\n', 'L280 +++$+++ u2 +++$+++ m0 +++$+++ CAMERON +++$+++ There.\\n', \"L277 +++$+++ u2 +++$+++ m0 +++$+++ CAMERON +++$+++ Well, there's someone I think might be --\\n\", 'L276 +++$+++ u0 +++$+++ m0 +++$+++ BIANCA +++$+++ How is our little Find the Wench A Date plan progressing?\\n', 'L275 +++$+++ u0 +++$+++ m0 +++$+++ BIANCA +++$+++ Forget French.\\n', \"L274 +++$+++ u2 +++$+++ m0 +++$+++ CAMERON +++$+++ That's because it's such a nice one.\\n\", \"L273 +++$+++ u0 +++$+++ m0 +++$+++ BIANCA +++$+++ I don't want to know how to say that though.  I want to know useful things. Like where the good stores are.  How much does champagne cost?  Stuff like Chat.  I have never in my life had to point out my head to someone.\\n\", \"L272 +++$+++ u2 +++$+++ m0 +++$+++ CAMERON +++$+++ Right.  See?  You're ready for the quiz.\\n\", \"L271 +++$+++ u0 +++$+++ m0 +++$+++ BIANCA +++$+++ C'esc ma tete. This is my head\\n\", 'L208 +++$+++ u2 +++$+++ m0 +++$+++ CAMERON +++$+++ Let me see what I can do.\\n', 'L207 +++$+++ u0 +++$+++ m0 +++$+++ BIANCA +++$+++ Gosh, if only we could find Kat a boyfriend...\\n', \"L206 +++$+++ u2 +++$+++ m0 +++$+++ CAMERON +++$+++ That's a shame.\\n\", 'L205 +++$+++ u0 +++$+++ m0 +++$+++ BIANCA +++$+++ Unsolved mystery.  She used to be really popular when she started high school, then it was just like she got sick of it or something.\\n', 'L204 +++$+++ u2 +++$+++ m0 +++$+++ CAMERON +++$+++ Why?\\n', 'L203 +++$+++ u2 +++$+++ m0 +++$+++ CAMERON +++$+++ Seems like she could get a date easy enough...\\n', \"L202 +++$+++ u0 +++$+++ m0 +++$+++ BIANCA +++$+++ The thing is, Cameron -- I'm at the mercy of a particularly hideous breed of loser.  My sister.  I can't date until she does.\\n\", 'L201 +++$+++ u2 +++$+++ m0 +++$+++ CAMERON +++$+++ Cameron.\\n', \"L200 +++$+++ u0 +++$+++ m0 +++$+++ BIANCA +++$+++ No, no, it's my fault -- we didn't have a proper introduction ---\\n\", 'L199 +++$+++ u2 +++$+++ m0 +++$+++ CAMERON +++$+++ Forget it.\\n', \"L198 +++$+++ u0 +++$+++ m0 +++$+++ BIANCA +++$+++ You're asking me out.  That's so cute. What's your name again?\\n\", \"L197 +++$+++ u2 +++$+++ m0 +++$+++ CAMERON +++$+++ Okay... then how 'bout we try out some French cuisine.  Saturday?  Night?\\n\", 'L196 +++$+++ u0 +++$+++ m0 +++$+++ BIANCA +++$+++ Not the hacking and gagging and spitting part.  Please.\\n', \"L195 +++$+++ u2 +++$+++ m0 +++$+++ CAMERON +++$+++ Well, I thought we'd start with pronunciation, if that's okay with you.\\n\", 'L194 +++$+++ u0 +++$+++ m0 +++$+++ BIANCA +++$+++ Can we make this quick?  Roxanne Korrine and Andrew Barrett are having an incredibly horrendous public break- up on the quad.  Again.\\n', 'L953 +++$+++ u0 +++$+++ m0 +++$+++ BIANCA +++$+++ I did.\\n', \"L952 +++$+++ u3 +++$+++ m0 +++$+++ CHASTITY +++$+++ You think you ' re the only sophomore at the prom?\\n\", \"L660 +++$+++ u3 +++$+++ m0 +++$+++ CHASTITY +++$+++ I don't have to be home 'til two.\\n\", 'L659 +++$+++ u0 +++$+++ m0 +++$+++ BIANCA +++$+++ I have to be home in twenty minutes.\\n', \"L600 +++$+++ u3 +++$+++ m0 +++$+++ CHASTITY +++$+++ All I know is -- I'd give up my private line to go out with a guy like Joey.\\n\", \"L599 +++$+++ u0 +++$+++ m0 +++$+++ BIANCA +++$+++ Sometimes I wonder if the guys we're supposed to want to go out with are the ones we actually want to go out with, you know?\\n\", \"L598 +++$+++ u3 +++$+++ m0 +++$+++ CHASTITY +++$+++ Bianca, I don't think the highlights of dating Joey Dorsey are going to include door-opening and coat-holding.\\n\", \"L597 +++$+++ u0 +++$+++ m0 +++$+++ BIANCA +++$+++ Combination.  I don't know -- I thought he'd be different.  More of a gentleman...\\n\", 'L596 +++$+++ u3 +++$+++ m0 +++$+++ CHASTITY +++$+++ Is he oily or dry?\\n', \"L595 +++$+++ u0 +++$+++ m0 +++$+++ BIANCA +++$+++ He practically proposed when he found out we had the same dermatologist. I mean. Dr. Bonchowski is great an all, but he's not exactly relevant party conversation.\\n\", 'L580 +++$+++ u0 +++$+++ m0 +++$+++ BIANCA +++$+++ Would you mind getting me a drink, Cameron?\\n', 'L579 +++$+++ u3 +++$+++ m0 +++$+++ CHASTITY +++$+++ Great\\n', 'L573 +++$+++ u0 +++$+++ m0 +++$+++ BIANCA +++$+++ Joey.\\n', 'L572 +++$+++ u3 +++$+++ m0 +++$+++ CHASTITY +++$+++ Who?\\n', 'L571 +++$+++ u0 +++$+++ m0 +++$+++ BIANCA +++$+++ Where did he go?  He was just here.\\n', 'L51 +++$+++ u0 +++$+++ m0 +++$+++ BIANCA +++$+++ You might wanna think about it\\n', 'L50 +++$+++ u3 +++$+++ m0 +++$+++ CHASTITY +++$+++ No.\\n', 'L49 +++$+++ u0 +++$+++ m0 +++$+++ BIANCA +++$+++ Did you change your hair?\\n', \"L760 +++$+++ u0 +++$+++ m0 +++$+++ BIANCA +++$+++ You know the deal.  I can ' t go if Kat doesn't go --\\n\", 'L759 +++$+++ u4 +++$+++ m0 +++$+++ JOEY +++$+++ Listen, I want to talk to you about the prom.\\n', \"L758 +++$+++ u4 +++$+++ m0 +++$+++ JOEY +++$+++ You're concentrating awfully hard considering it's gym class.\\n\", 'L757 +++$+++ u0 +++$+++ m0 +++$+++ BIANCA +++$+++ Hi, Joey.\\n', 'L756 +++$+++ u4 +++$+++ m0 +++$+++ JOEY +++$+++ Hey, sweet cheeks.\\n', \"L593 +++$+++ u4 +++$+++ m0 +++$+++ JOEY +++$+++ My agent says I've got a good shot at being the Prada guy next year.\\n\", 'L592 +++$+++ u0 +++$+++ m0 +++$+++ BIANCA +++$+++ Neat...\\n', \"L591 +++$+++ u4 +++$+++ m0 +++$+++ JOEY +++$+++ It's a gay cruise line, but I'll be, like, wearing a uniform and stuff.\\n\", 'L590 +++$+++ u0 +++$+++ m0 +++$+++ BIANCA +++$+++ Queen Harry?\\n', 'L589 +++$+++ u4 +++$+++ m0 +++$+++ JOEY +++$+++ So yeah, I\\'ve got the Sears catalog thing going -- and the tube sock gig \" that\\'s gonna be huge.  And then I\\'m up for an ad for Queen Harry next week.\\n', 'L397 +++$+++ u0 +++$+++ m0 +++$+++ BIANCA +++$+++ Hopefully.\\n', \"L396 +++$+++ u4 +++$+++ m0 +++$+++ JOEY +++$+++ Exactly  So, you going to Bogey Lowenbrau's thing on Saturday?\\n\", 'L395 +++$+++ u0 +++$+++ m0 +++$+++ BIANCA +++$+++ Expensive?\\n']\n"
     ]
    }
   ],
   "source": [
    "with open('./cornell-movie-dialogs-corpus/movie_lines.txt', 'r', errors='ignore') as f:\n",
    "    text = f.readlines()\n",
    "print(text[0:100])"
   ]
  },
  {
   "cell_type": "code",
   "execution_count": null,
   "metadata": {},
   "outputs": [],
   "source": []
  }
 ],
 "metadata": {
  "kernelspec": {
   "display_name": "Python 3",
   "language": "python",
   "name": "python3"
  },
  "language_info": {
   "codemirror_mode": {
    "name": "ipython",
    "version": 3
   },
   "file_extension": ".py",
   "mimetype": "text/x-python",
   "name": "python",
   "nbconvert_exporter": "python",
   "pygments_lexer": "ipython3",
   "version": "3.6.5"
  }
 },
 "nbformat": 4,
 "nbformat_minor": 2
}
